{
 "cells": [
  {
   "cell_type": "code",
   "execution_count": 1,
   "id": "8c1e6e15",
   "metadata": {},
   "outputs": [
    {
     "name": "stdout",
     "output_type": "stream",
     "text": [
      "Basic Information:\n",
      "<class 'pandas.core.frame.DataFrame'>\n",
      "RangeIndex: 5 entries, 0 to 4\n",
      "Data columns (total 4 columns):\n",
      " #   Column      Non-Null Count  Dtype \n",
      "---  ------      --------------  ----- \n",
      " 0   Name        5 non-null      object\n",
      " 1   Age         5 non-null      int64 \n",
      " 2   Department  5 non-null      object\n",
      " 3   Salary      5 non-null      int64 \n",
      "dtypes: int64(2), object(2)\n",
      "memory usage: 292.0+ bytes\n",
      "None\n",
      "\n",
      "Average Salary: 54400.0\n",
      "\n",
      "Maximum Age in Engineering: 30\n",
      "\n",
      "Employees with Salary > 50000:\n",
      "    Bob\n",
      "Charlie\n",
      "  David\n",
      "\n",
      "DataFrame after adding Frank:\n",
      "      Name  Age   Department  Salary\n",
      "0    Alice   28           HR   50000\n",
      "1      Bob   22  Engineering   60000\n",
      "2  Charlie   35           HR   55000\n",
      "3    David   30  Engineering   62000\n",
      "4      Eve   25      Finance   45000\n",
      "5    Frank   40      Finance   55000\n",
      "\n",
      "DataFrame after removing Eve:\n",
      "      Name  Age   Department  Salary\n",
      "0    Alice   28           HR   50000\n",
      "1      Bob   22  Engineering   60000\n",
      "2  Charlie   35           HR   55000\n",
      "3    David   30  Engineering   62000\n",
      "5    Frank   40      Finance   55000\n"
     ]
    }
   ],
   "source": [
    "import pandas as pd\n",
    "\n",
    "data = {\n",
    "    'Name': ['Alice', 'Bob', 'Charlie', 'David', 'Eve'],\n",
    "    'Age': [28, 22, 35, 30, 25],\n",
    "    'Department': ['HR', 'Engineering', 'HR', 'Engineering', 'Finance'],\n",
    "    'Salary': [50000, 60000, 55000, 62000, 45000]\n",
    "}\n",
    "\n",
    "df = pd.DataFrame(data)\n",
    "\n",
    "print(\"Basic Information:\")\n",
    "print(df.info())\n",
    "print()\n",
    "\n",
    "average_salary = df['Salary'].mean()\n",
    "print(\"Average Salary:\", average_salary)\n",
    "print()\n",
    "\n",
    "max_age_engineering = df[df['Department'] == 'Engineering']['Age'].max()\n",
    "print(\"Maximum Age in Engineering:\", max_age_engineering)\n",
    "print()\n",
    "\n",
    "high_earners = df[df['Salary'] > 50000]['Name']\n",
    "print(\"Employees with Salary > 50000:\")\n",
    "print(high_earners.to_string(index=False))\n",
    "print()\n",
    "\n",
    "new_employee = pd.DataFrame({\n",
    "    'Name': ['Frank'],\n",
    "    'Age': [40],\n",
    "    'Department': ['Finance'],\n",
    "    'Salary': [55000]\n",
    "})\n",
    "df = pd.concat([df, new_employee], ignore_index=True)\n",
    "print(\"DataFrame after adding Frank:\")\n",
    "print(df)\n",
    "print()\n",
    "\n",
    "df = df[df['Name'] != 'Eve']\n",
    "print(\"DataFrame after removing Eve:\")\n",
    "print(df)"
   ]
  },
  {
   "cell_type": "code",
   "execution_count": 1,
   "id": "159d69c4",
   "metadata": {},
   "outputs": [
    {
     "name": "stdout",
     "output_type": "stream",
     "text": [
      "Original Array: [ 2  4  6  8 10 12 14 16]\n",
      "Mean: 9.0\n",
      "Median: 9.0\n",
      "Standard Deviation: 4.58257569495584\n",
      "Reshaped to 2x4:\n",
      " [[ 2  4  6  8]\n",
      " [10 12 14 16]]\n",
      "Square Root of Each Element: [1.41421356 2.         2.44948974 2.82842712 3.16227766 3.46410162\n",
      " 3.74165739 4.        ]\n",
      "Index of Max Element: 7\n",
      "Elements Greater Than 8: [10 12 14 16]\n"
     ]
    }
   ],
   "source": [
    "import numpy as np\n",
    "numbers = [2, 4, 6, 8, 10, 12, 14, 16]\n",
    "\n",
    "\n",
    "arr = np.array(numbers)\n",
    "\n",
    "mean = np.mean(arr)\n",
    "median = np.median(arr)\n",
    "std_dev = np.std(arr)\n",
    "\n",
    "\n",
    "reshaped_arr = arr.reshape(2, 4)\n",
    "\n",
    "\n",
    "sqrt_arr = np.sqrt(arr)\n",
    "\n",
    "\n",
    "max_index = np.argmax(arr)\n",
    "\n",
    "\n",
    "greater_than_8 = arr[arr > 8]\n",
    "\n",
    "\n",
    "print(\"Original Array:\", arr)\n",
    "print(\"Mean:\", mean)\n",
    "print(\"Median:\", median)\n",
    "print(\"Standard Deviation:\", std_dev)\n",
    "print(\"Reshaped to 2x4:\\n\", reshaped_arr)\n",
    "print(\"Square Root of Each Element:\", sqrt_arr)\n",
    "print(\"Index of Max Element:\", max_index)\n",
    "print(\"Elements Greater Than 8:\", greater_than_8)"
   ]
  },
  {
   "cell_type": "code",
   "execution_count": null,
   "id": "fb746c4a",
   "metadata": {},
   "outputs": [
    {
     "name": "stdout",
     "output_type": "stream",
     "text": [
      "Factorial of 5: 120\n",
      "Integer square root of 10: 3\n",
      "GCD of 54 and 24: 6\n",
      "Value of π: 3.141592653589793\n",
      "Square root of 10: 3.1622776601683795\n",
      "5 raised to power 3: 125.0\n",
      "Exponential of 2 (e^2): 7.38905609893065\n",
      "Log base 10 of 100: 2.0\n",
      "Sin(30°): 0.49999999999999994\n",
      "Cos(30°): 0.8660254037844387\n"
     ]
    }
   ],
   "source": [
    "import math\n",
    "\n",
    "n = 5\n",
    "x = 10\n",
    "a = 54\n",
    "b = 24\n",
    "angle_deg = 30\n",
    "angle_rad = math.radians(angle_deg)\n",
    "log_val = 100\n",
    "\n",
    "factorial_result = math.factorial(n)\n",
    "isqrt_result = math.isqrt(x)\n",
    "gcd_result = math.gcd(a, b)\n",
    "pi_result = math.pi \n",
    "sqrt_result = math.sqrt(x)\n",
    "power_result = math.pow(n, 3)\n",
    "exp_result = math.exp(2)\n",
    "log_result = math.log(log_val, 10)\n",
    "sin_result = math.sin(angle_rad)\n",
    "cos_result = math.cos(angle_rad)\n",
    "lcm_result = math.lcm(2,4);\n",
    "\n",
    "# Output results\n",
    "print(f\"Factorial of {n}: {factorial_result}\")\n",
    "print(f\"Integer square root of {x}: {isqrt_result}\")\n",
    "print(f\"GCD of {a} and {b}: {gcd_result}\")\n",
    "print(f\"Value of π: {pi_result}\")\n",
    "print(f\"Square root of {x}: {sqrt_result}\")\n",
    "print(f\"{n} raised to power 3: {power_result}\")\n",
    "print(f\"Exponential of 2 (e^2): {exp_result}\")\n",
    "print(f\"Log base 10 of {log_val}: {log_result}\")\n",
    "print(f\"Sin({angle_deg}°): {sin_result}\")\n",
    "print(f\"Cos({angle_deg}°): {cos_result}\")\n",
    "print(\"Lcm of {a} and {b}:{lcm_result}\")\n"
   ]
  },
  {
   "cell_type": "code",
   "execution_count": 2,
   "id": "e2e800c5",
   "metadata": {},
   "outputs": [
    {
     "name": "stdout",
     "output_type": "stream",
     "text": [
      "(['Ram', 10, 'CSE'], ['Sita', 20, 'ETB'], ['Jhon', 30, 'MTB'])\n"
     ]
    }
   ],
   "source": [
    "import pandas as pd\n",
    "data =(['Ram',10,'CSE'],['Sita',20,'ETB'],['Jhon',30,'MTB'])\n",
    "columns = ['Name','Age','branch']\n",
    "dataf = pd.DataFrame(data,columns=columns)\n",
    "print (data)"
   ]
  }
 ],
 "metadata": {
  "kernelspec": {
   "display_name": "Python 3",
   "language": "python",
   "name": "python3"
  },
  "language_info": {
   "codemirror_mode": {
    "name": "ipython",
    "version": 3
   },
   "file_extension": ".py",
   "mimetype": "text/x-python",
   "name": "python",
   "nbconvert_exporter": "python",
   "pygments_lexer": "ipython3",
   "version": "3.13.5"
  }
 },
 "nbformat": 4,
 "nbformat_minor": 5
}
