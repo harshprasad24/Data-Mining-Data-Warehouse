{
 "cells": [
  {
   "cell_type": "code",
   "execution_count": 1,
   "id": "064c6fb1",
   "metadata": {}, 
   "outputs": [ 
    {
     "name": "stdout",
     "output_type": "stream",
     "text": [
      "Squares of positive numbers: [1, 16, 36]\n"
     ]
    }
   ],
   "source": [
    "def square_positive_numbers(nums):\n",
    "    return [x**2 for x in nums if x > 0]\n",
    "\n",
    "# Example\n",
    "input_list = [1, -3, 4, -2, 6]\n",
    "print(\"Squares of positive numbers:\", square_positive_numbers(input_list))"
   ]
  },
  {
   "cell_type": "code",
   "execution_count": 2,
   "id": "57981d3f",
   "metadata": {},
   "outputs": [
    {
     "name": "stdout",
     "output_type": "stream",
     "text": [
      "[3, 4]\n"
     ]
    }
   ],
   "source": [
    "# 1.2\n",
    "def common_elements(list1, list2):\n",
    "    return [x for x in list1 if x in list2]\n",
    "\n",
    "# Example usage\n",
    "print(common_elements([1,2,3,4], [3,4,5,6]))\n"
   ]
  },
  {
   "cell_type": "code",
   "execution_count": 3,
   "id": "ce75e843",
   "metadata": {},
   "outputs": [
    {
     "name": "stdout",
     "output_type": "stream",
     "text": [
      "[1, 2, 3, 4, 5]\n"
     ]
    }
   ],
   "source": [
    "# 1.3\n",
    "def remove_duplicates(lst):\n",
    "    seen = set()\n",
    "    result = []\n",
    "    for item in lst:\n",
    "        if item not in seen:\n",
    "            seen.add(item)\n",
    "            result.append(item)\n",
    "    return result\n",
    "\n",
    "# Example usage\n",
    "print(remove_duplicates([1,2,2,3,4,4,5]))\n"
   ]
  },
  {
   "cell_type": "code",
   "execution_count": 4,
   "id": "b21a825d",
   "metadata": {},
   "outputs": [
    {
     "name": "stdout",
     "output_type": "stream",
     "text": [
      "[[1, 6], [8, 10], [15, 18]]\n"
     ]
    }
   ],
   "source": [
    "# 1.4\n",
    "def merge_intervals(intervals):\n",
    "    if not intervals:\n",
    "        return []\n",
    "    intervals.sort(key=lambda x: x[0])\n",
    "    merged = [intervals[0]]\n",
    "    for current in intervals[1:]:\n",
    "        last = merged[-1]\n",
    "        if current[0] <= last[1]:\n",
    "            merged[-1][1] = max(last[1], current[1])\n",
    "        else:\n",
    "            merged.append(current)\n",
    "    return merged\n",
    "\n",
    "# Example usage\n",
    "print(merge_intervals([[1,3], [2,6], [8,10], [15,18]]))\n"
   ]
  },
  {
   "cell_type": "code",
   "execution_count": 5,
   "id": "e49df384",
   "metadata": {},
   "outputs": [
    {
     "name": "stdout",
     "output_type": "stream",
     "text": [
      "2\n",
      "-1\n"
     ]
    }
   ],
   "source": [
    "# 1.5\n",
    "def binary_search(arr, target):\n",
    "    left, right = 0, len(arr) - 1\n",
    "    while left <= right:\n",
    "        mid = (left + right) // 2\n",
    "        if arr[mid] == target:\n",
    "            return mid\n",
    "        elif arr[mid] < target:\n",
    "            left = mid + 1\n",
    "        else:\n",
    "            right = mid - 1\n",
    "    return -1\n",
    "\n",
    "# Example usage\n",
    "print(binary_search([1,2,3,4,5], 3))  # Output: 2\n",
    "print(binary_search([1,2,3,4,5], 6))  # Output: -1\n"
   ]
  },
  {
   "cell_type": "code",
   "execution_count": 6,
   "id": "363bf440",
   "metadata": {},
   "outputs": [
    {
     "name": "stdout",
     "output_type": "stream",
     "text": [
      "[[1, 4], [2, 5], [3, 6]]\n"
     ]
    }
   ],
   "source": [
    "# 1.6\n",
    "def transpose(matrix):\n",
    "    return [list(row) for row in zip(*matrix)]\n",
    "\n",
    "# Example usage\n",
    "matrix = [[1,2,3],[4,5,6]]\n",
    "print(transpose(matrix))\n"
   ]
  },
  {
   "cell_type": "code",
   "execution_count": null,
   "id": "d566dcf5",
   "metadata": {},
   "outputs": [],
   "source": [
    "# 1.7\n",
    "def factorial_divisors(num):\n",
    "    divisors = [1]\n",
    "    for i in range(2, num+1):\n",
    "        if num % i == 0:\n",
    "            divisors.append(i)\n",
    "    return divisors\n",
    "\n",
    "nums = list(map(int, input(\"Enter 5 elements separated by space: \").split()))\n",
    "result = [factorial_divisors(n) for n in nums]\n",
    "print(result)\n"
   ]
  },
  {
   "cell_type": "code",
   "execution_count": 1,
   "id": "ee43ddc2",
   "metadata": {},
   "outputs": [
    {
     "name": "stdout",
     "output_type": "stream",
     "text": [
      "Students Marks\n",
      "Arjun\t91\n",
      "Ram\t85\n",
      "Bharat\t78\n"
     ]
    }
   ],
   "source": [
    "# 1.8\n",
    "students = [(\"Ram\", 85), (\"Bharat\", 78), (\"Arjun\", 91)]\n",
    "students.sort(key=lambda x: x[1], reverse=True)\n",
    "\n",
    "print(\"Students Marks\")\n",
    "for name, score in students:\n",
    "    print(f\"{name}\\t{score}\")\n"
   ]
  },
  {
   "cell_type": "code",
   "execution_count": null,
   "id": "102ef390",
   "metadata": {},
   "outputs": [],
   "source": [
    "# 1.9\n",
    "from collections import Counter\n",
    "\n",
    "s = input(\"Enter a string: \").lower()\n",
    "freq = Counter(c for c in s if c.isalpha())\n",
    "print(dict(freq))\n"
   ]
  },
  {
   "cell_type": "code",
   "execution_count": null,
   "id": "00a8eae4",
   "metadata": {},
   "outputs": [],
   "source": [
    "# 1.10\n",
    "from collections import Counter\n",
    "\n",
    "def remove_most_repeating(lst):\n",
    "    freq = Counter(lst)\n",
    "    most_common = freq.most_common(1)[0][0]\n",
    "    return [x for x in lst if x != most_common]\n",
    "\n",
    "lst = list(map(int, input(\"Enter list elements separated by space: \").split()))\n",
    "print(remove_most_repeating(lst))\n"
   ]
  }
 ],
 "metadata": {
  "kernelspec": {
   "display_name": "Python 3",
   "language": "python",
   "name": "python3"
  },
  "language_info": {
   "codemirror_mode": {
    "name": "ipython",
    "version": 3
   },
   "file_extension": ".py",
   "mimetype": "text/x-python",
   "name": "python",
   "nbconvert_exporter": "python",
   "pygments_lexer": "ipython3",
   "version": "3.13.5"
  }
 },
 "nbformat": 4,
 "nbformat_minor": 5
}
